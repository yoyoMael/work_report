{
 "cells": [
  {
   "cell_type": "code",
   "execution_count": 25,
   "metadata": {},
   "outputs": [],
   "source": [
    "import pandas as pd\n",
    "import numpy as np\n",
    "import glob\n",
    "\n",
    "# compare recall of ftp-c  ftp-p  p2p database,  2,3,5,6"
   ]
  },
  {
   "cell_type": "code",
   "execution_count": 51,
   "metadata": {},
   "outputs": [
    {
     "name": "stdout",
     "output_type": "stream",
     "text": [
      "[[0.724296 0.8932549999999999 0.9973799999999999 0.8323510000000001\n",
      "  0.712508 0.996726 0.9973799999999999]\n",
      " [0.614583 0.8348209999999999 0.965774 0.9203870000000001 0.004464\n",
      "  0.9642860000000001 0.9575889999999999]\n",
      " [0.093601 0.8500479999999999 0.962751 0.728749 0.330468\n",
      "  0.9684809999999999 0.947469]\n",
      " [0.7129909999999999 0.9645020000000001 0.999245 0.9539270000000001\n",
      "  0.906344 0.999245 1.0]]\n",
      "[[0.020761 0.854671 1.0 0.903114 0.00692 1.0 1.0]\n",
      " [0.9597120000000001 0.892086 0.9294959999999999 0.991367 0.0 0.995683\n",
      "  0.995683]\n",
      " [0.11111099999999999 0.919192 0.9629629999999999 0.690236 0.0\n",
      "  0.9595959999999999 0.9528620000000001]\n",
      " [0.00339 0.149153 0.9898309999999999 0.277966 0.0 0.979661\n",
      "  0.9898309999999999]]\n",
      "[[0.724296 0.8932549999999999 0.9973799999999999 0.8323510000000001\n",
      "  0.712508 0.996726 0.9973799999999999]\n",
      " [0.614583 0.8348209999999999 0.965774 0.9203870000000001 0.004464\n",
      "  0.9642860000000001 0.9575889999999999]\n",
      " [0.093601 0.8500479999999999 0.962751 0.728749 0.330468\n",
      "  0.9684809999999999 0.947469]\n",
      " [0.7129909999999999 0.9645020000000001 0.999245 0.9539270000000001\n",
      "  0.906344 0.999245 1.0]\n",
      " [0.020761 0.854671 1.0 0.903114 0.00692 1.0 1.0]\n",
      " [0.9597120000000001 0.892086 0.9294959999999999 0.991367 0.0 0.995683\n",
      "  0.995683]\n",
      " [0.11111099999999999 0.919192 0.9629629999999999 0.690236 0.0\n",
      "  0.9595959999999999 0.9528620000000001]\n",
      " [0.00339 0.149153 0.9898309999999999 0.277966 0.0 0.979661\n",
      "  0.9898309999999999]]\n"
     ]
    }
   ],
   "source": [
    "files = glob.glob('*1.csv')\n",
    "files.sort()\n",
    "\n",
    "df = pd.read_csv('lgb_raw_0f_1.csv')\n",
    "clf_names = ['GNB', 'KNN', 'LGBM', 'MLP', 'RBFSVM', 'RF', 'XGB']\n",
    "classes = df['class'][[2,3,5,6]].values\n",
    "\n",
    "data = classes\n",
    "for file in files:\n",
    "    df = pd.read_csv(file)\n",
    "    data = np.c_[data,df['recall'][[2,3,5,6]].values]\n",
    "data1 = data[:,1:]\n",
    "print(data1)\n",
    "\n",
    "files = glob.glob('*2.csv')\n",
    "files.sort()\n",
    "\n",
    "df = pd.read_csv('lgb_raw_0f_1.csv')\n",
    "clf_names = ['GNB', 'KNN', 'LGBM', 'MLP', 'RBFSVM', 'RF', 'XGB']\n",
    "classes = df['class'][[2,3,5,6]].values\n",
    "\n",
    "data = classes\n",
    "for file in files:\n",
    "    df = pd.read_csv(file)\n",
    "    data = np.c_[data,df['recall'][[2,3,5,6]].values]\n",
    "data2 = data[:,1:]\n",
    "print(data2)\n",
    "                  \n",
    "data = np.r_[data1,data2]\n",
    "df = pd.DataFrame(data)\n"
   ]
  },
  {
   "cell_type": "code",
   "execution_count": 42,
   "metadata": {},
   "outputs": [
    {
     "data": {
      "text/plain": [
       "array([[0.724296, 0.8932549999999999, 0.9973799999999999,\n",
       "        0.8323510000000001, 0.712508, 0.996726, 0.9973799999999999],\n",
       "       [0.614583, 0.8348209999999999, 0.965774, 0.9203870000000001,\n",
       "        0.004464, 0.9642860000000001, 0.9575889999999999],\n",
       "       [0.093601, 0.8500479999999999, 0.962751, 0.728749, 0.330468,\n",
       "        0.9684809999999999, 0.947469],\n",
       "       [0.7129909999999999, 0.9645020000000001, 0.999245,\n",
       "        0.9539270000000001, 0.906344, 0.999245, 1.0]], dtype=object)"
      ]
     },
     "execution_count": 42,
     "metadata": {},
     "output_type": "execute_result"
    }
   ],
   "source": [
    "data[:,1:]r"
   ]
  },
  {
   "cell_type": "code",
   "execution_count": null,
   "metadata": {},
   "outputs": [],
   "source": []
  },
  {
   "cell_type": "code",
   "execution_count": null,
   "metadata": {},
   "outputs": [],
   "source": []
  }
 ],
 "metadata": {
  "kernelspec": {
   "display_name": "Python 3",
   "language": "python",
   "name": "python3"
  },
  "language_info": {
   "codemirror_mode": {
    "name": "ipython",
    "version": 3
   },
   "file_extension": ".py",
   "mimetype": "text/x-python",
   "name": "python",
   "nbconvert_exporter": "python",
   "pygments_lexer": "ipython3",
   "version": "3.6.4"
  }
 },
 "nbformat": 4,
 "nbformat_minor": 2
}
