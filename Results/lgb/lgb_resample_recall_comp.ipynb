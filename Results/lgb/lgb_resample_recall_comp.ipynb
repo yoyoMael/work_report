{
 "cells": [
  {
   "cell_type": "code",
   "execution_count": 7,
   "metadata": {},
   "outputs": [
    {
     "name": "stdout",
     "output_type": "stream",
     "text": [
      "[[0.997528 0.995737 0.989589 0.892689 0.818182 0.805172 0.998107 0.977726\n",
      "  0.842444 0.945537 0.923077]\n",
      " [0.983883 0.996155 0.998777 0.974952 0.854296 0.856895 1.       0.988193\n",
      "  0.927548 0.985727 1.      ]\n",
      " [0.997512 0.996602 0.995739 0.906911 0.83571  0.826241 0.997729 0.983832\n",
      "  0.881356 0.946412 0.972973]\n",
      " [0.989889 0.994969 0.99833  0.975807 0.898348 0.888341 0.999277 0.9852\n",
      "  0.937388 0.988976 0.999499]]\n",
      "['WWW' 'MAIL' 'FTP-CONTROL' 'FTP-PASV' 'ATTACK' 'P2P' 'DATABASE'\n",
      " 'FTP-DATA' 'MULTIMEDIA' 'SERVICES' 'INTERACTIVE']\n"
     ]
    },
    {
     "data": {
      "image/png": "[encoded data removed]",
      "text/plain": [
       "<Figure size 1008x360 with 1 Axes>"
      ]
     },
     "metadata": {},
     "output_type": "display_data"
    }
   ],
   "source": [
    "import pandas as pd\n",
    "import numpy as np\n",
    "import matplotlib.pyplot as plt\n",
    "\n",
    "# metric = 'Precision'\n",
    "metric = 'F1'\n",
    "df = pd.read_csv('lgb_resample_'+metric.lower()+'_comp.csv')\n",
    "\n",
    "\n",
    "values = df[df.columns[1:]].values.T\n",
    "clf_names = df.columns[1:]\n",
    "classes =df['Type'].values.T\n",
    "print(values)\n",
    "print(classes)\n",
    "\n",
    "\n",
    "fig = plt.figure(figsize=(14,5))\n",
    "\n",
    "width = .15\n",
    "index = np.arange(len(classes))\n",
    "classes\n",
    "\n",
    "ax = plt.subplot(1,1,1)\n",
    "rects1 = ax.bar(index,values[0],align='center',width=width,\n",
    "   color=(.8,.4,.4,1),edgecolor='w',linewidth=1,log=False,label='Raw')\n",
    "rects2 = ax.bar(index+width,values[1], align='center',width=width,\n",
    "   color=(.4,.6,.6,.5),edgecolor='w',linewidth=1,log=False,label='ROS')\n",
    "rects3 = ax.bar(index+2*width,values[2], align='center',width=width,\n",
    "   color=(.2,.5,.6,1),edgecolor='w',linewidth=1,log=False,label='RUS')\n",
    "rects4 = ax.bar(index+3*width,values[3], align='center',width=width,\n",
    "   color=(.2,.3,.4,1),edgecolor='w',linewidth=1,log=False,label='SMOTE-T')\n",
    "ax.set_ylabel(metric)\n",
    "ax.set_xlabel('Type')\n",
    "ax.set_ylim(0,1.15)\n",
    "ax.legend(loc='best', ncol = 4)\n",
    "plt.xticks(index+width*1.5,classes)\n",
    "ax.set_title(metric + ' of different flows after resampling')\n",
    "def set_values(rects):\n",
    "    for rect in rects:\n",
    "        height = rect.get_height()\n",
    "        plt.text(rect.get_x() + rect.get_width() / 2, height, height, ha='center', va='bottom',fontsize=8)\n",
    "        rect.set_edgecolor((.9,.9,1))\n",
    "# add values on the top of the bar\n",
    "\n",
    "\n",
    "plt.savefig('lgb_resample_'+metric.lower()+'_comp.png')\n",
    "plt.show()\n",
    "# from matplotlib.ticker import MultipleLocator, FormatStrFormatter, NullLocator\n",
    "# yformatter = FormatStrFormatter('%1.2f')\n",
    "# ylocator = NullLocator()\n",
    "# ax.yaxis.set_major_formatter(ymajorLocator)\n",
    "# ax.yaxis.set_major_locator(ylocator)\n",
    "\n",
    "# set_values(rects1)\n",
    "# set_values(rects2)"
   ]
  },
  {
   "cell_type": "code",
   "execution_count": null,
   "metadata": {},
   "outputs": [],
   "source": []
  }
 ],
 "metadata": {
  "kernelspec": {
   "display_name": "Python 3",
   "language": "python",
   "name": "python3"
  },
  "language_info": {
   "codemirror_mode": {
    "name": "ipython",
    "version": 3
   },
   "file_extension": ".py",
   "mimetype": "text/x-python",
   "name": "python",
   "nbconvert_exporter": "python",
   "pygments_lexer": "ipython3",
   "version": "3.6.4"
  }
 },
 "nbformat": 4,
 "nbformat_minor": 2
}
