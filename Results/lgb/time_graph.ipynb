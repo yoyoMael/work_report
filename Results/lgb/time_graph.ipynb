{
 "cells": [
  {
   "cell_type": "code",
   "execution_count": 48,
   "metadata": {},
   "outputs": [
    {
     "data": {
      "text/plain": [
       "array([[1.2000e-01, 1.0200e+00, 1.8540e+01, 6.9600e+00, 8.8190e+01,\n",
       "        1.1080e+01, 5.2770e+01],\n",
       "       [3.8000e-01, 1.7590e+01, 2.2140e+01, 3.0350e+01, 1.9049e+02,\n",
       "        3.4220e+01, 1.3941e+02],\n",
       "       [6.6000e-01, 5.1460e+01, 3.4290e+01, 8.5250e+01, 4.0924e+02,\n",
       "        5.8030e+01, 3.1547e+02]])"
      ]
     },
     "execution_count": 48,
     "metadata": {},
     "output_type": "execute_result"
    }
   ],
   "source": [
    "import pandas as pd\n",
    "import numpy as np\n",
    "import matplotlib.pyplot as plt\n",
    "\n",
    "df = pd.read_csv('time_comp.csv')\n",
    "\n",
    "df.head()\n",
    "\n",
    "values = df[df.columns[2:]].values\n",
    "\n",
    "clf_names = df.columns[2:]\n",
    "\n",
    "values"
   ]
  },
  {
   "cell_type": "code",
   "execution_count": 50,
   "metadata": {},
   "outputs": [
    {
     "data": {
      "image/png": "[encoded data removed]",
      "text/plain": [
       "<Figure size 720x432 with 1 Axes>"
      ]
     },
     "metadata": {},
     "output_type": "display_data"
    }
   ],
   "source": [
    "\n",
    "plt.figure(figsize=(10,6))\n",
    "ax = plt.subplot(1,1,1)\n",
    "width = .25\n",
    "index = np.arange(len(clf_names))\n",
    "\n",
    "rects1 = ax.bar(clf_names,values[0],align='center',width=width,\n",
    "       color=(.3,.7,.7,.5),edgecolor='w',linewidth=1,log=True,label='Undersample')\n",
    "rects2 = ax.bar(index+width,values[1], align='center',width=width,\n",
    "       color=(.1,.4,.6,.6),edgecolor='w',linewidth=1,log=True,label='Raw')\n",
    "rects3 = ax.bar(index+2*width,values[2],align='center',width=width,\n",
    "       color=(.4,.5,.6,1),edgecolor='w',linewidth=1,log=True,label='Oversample')\n",
    "plt.xticks(index+width/2,clf_names)\n",
    "\n",
    "\n",
    "def set_values(rects):\n",
    "    for rect in rects:\n",
    "        height = rect.get_height()\n",
    "        plt.text(rect.get_x() + rect.get_width() / 2, height, height, ha='center', va='bottom',fontsize=8)\n",
    "        rect.set_edgecolor((.9,.9,1))\n",
    "\n",
    "ax.set_xlabel('Classifier')\n",
    "ax.set_ylabel('Training time(s)')\n",
    "ax.legend(loc='best')\n",
    "plt.title('Training time of different classifier')\n",
    "plt.ylim(0.1)\n",
    "plt.savefig('time_comp.png')\n",
    "# from matplotlib.ticker import MultipleLocator, FormatStrFormatter, NullLocator\n",
    "# yformatter = FormatStrFormatter('%1.2f')\n",
    "# ylocator = NullLocator()\n",
    "# ax.yaxis.set_major_formatter(ymajorLocator)\n",
    "# ax.yaxis.set_major_locator(ylocator)\n",
    "\n",
    "# set_values(rects1)\n",
    "# set_values(rects2)"
   ]
  },
  {
   "cell_type": "code",
   "execution_count": null,
   "metadata": {},
   "outputs": [],
   "source": []
  },
  {
   "cell_type": "code",
   "execution_count": null,
   "metadata": {},
   "outputs": [],
   "source": []
  }
 ],
 "metadata": {
  "kernelspec": {
   "display_name": "Python 3",
   "language": "python",
   "name": "python3"
  },
  "language_info": {
   "codemirror_mode": {
    "name": "ipython",
    "version": 3
   },
   "file_extension": ".py",
   "mimetype": "text/x-python",
   "name": "python",
   "nbconvert_exporter": "python",
   "pygments_lexer": "ipython3",
   "version": "3.6.4"
  }
 },
 "nbformat": 4,
 "nbformat_minor": 2
}
