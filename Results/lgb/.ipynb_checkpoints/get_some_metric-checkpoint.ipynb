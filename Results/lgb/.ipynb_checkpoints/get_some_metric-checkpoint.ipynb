{
 "cells": [
  {
   "cell_type": "code",
   "execution_count": 6,
   "metadata": {},
   "outputs": [
    {
     "name": "stdout",
     "output_type": "stream",
     "text": [
      "[['WWW' 0.9823870000000001 0.99454 0.9923200000000001 0.991632]\n",
      " ['MAIL' 0.8910610000000001 0.903207 0.895206 0.880296]\n",
      " ['FTP-CONTROL' 0.975524 0.977391 0.98087 0.927632]\n",
      " ['FTP-PASV' 0.78866 0.885437 0.701458 0.8747540000000001]\n",
      " ['ATTACK' nan nan nan nan]\n",
      " ['P2P' 0.647303 0.717557 0.695238 0.697059]\n",
      " ['DATABASE' 0.652968 0.714597 0.026756 0.621495]\n",
      " ['FTP-DATA' 0.960148 0.9626170000000001 0.800616 0.963031]\n",
      " ['MULTIMEDIA' nan nan nan nan]\n",
      " ['SERVICES' 0.9918030000000001 0.945312 0.9877549999999999 0.979253]\n",
      " ['INTERACTIVE' 0.857143 0.857143 0.666667 0.857143]]\n",
      "[['WWW' 0.9823870000000001 0.99454 0.9923200000000001 0.991632]\n",
      " ['MAIL' 0.8910610000000001 0.903207 0.895206 0.880296]\n",
      " ['FTP-CONTROL' 0.975524 0.977391 0.98087 0.927632]\n",
      " ['FTP-PASV' 0.78866 0.885437 0.701458 0.8747540000000001]\n",
      " ['ATTACK' nan nan nan nan]\n",
      " ['P2P' 0.647303 0.717557 0.695238 0.697059]\n",
      " ['DATABASE' 0.652968 0.714597 0.026756 0.621495]\n",
      " ['FTP-DATA' 0.960148 0.9626170000000001 0.800616 0.963031]\n",
      " ['MULTIMEDIA' nan nan nan nan]\n",
      " ['SERVICES' 0.9918030000000001 0.945312 0.9877549999999999 0.979253]\n",
      " ['INTERACTIVE' 0.857143 0.857143 0.666667 0.857143]]\n"
     ]
    }
   ],
   "source": [
    "import pandas as pd\n",
    "import numpy as np\n",
    "import glob\n",
    "\n",
    "# compare recall of ftp-c  ftp-p  p2p database,  2,3,5,6\n",
    "\n",
    "files = glob.glob('*2.csv')\n",
    "files.sort()\n",
    "metric = 'f1'\n",
    "df = pd.read_csv('lgb_raw_f_1.csv')\n",
    "clf_names = ['DT','GNB', 'KNN', 'LGBM', 'MLP', 'RBFSVM', 'RF', 'XGB']\n",
    "classes = df['class'].values\n",
    "\n",
    "data = classes\n",
    "for file in files:\n",
    "    df = pd.read_csv(file)\n",
    "    data = np.c_[data,df[metric].values.T]\n",
    "\n",
    "\n",
    "\n",
    "# files = glob.glob('*2.csv')\n",
    "# files.sort()\n",
    "\n",
    "# df = pd.read_csv('lgb_raw_f_1.csv')\n",
    "# clf_names = ['DT','GNB', 'KNN', 'LGBM', 'MLP', 'RBFSVM', 'RF', 'XGB']\n",
    "# classes = df['class'][[2,3,5,6]].values\n",
    "\n",
    "# data = classes\n",
    "# for file in files:\n",
    "#     df = pd.read_csv(file)\n",
    "#     data = np.c_[data,df['recall'][[2,3,5,6]].values]\n",
    "# data2 = data[:,1:]                \n",
    "# data = np.r_[data1,data2]\n",
    "print(data)\n",
    "df = pd.DataFrame(data)\n",
    "df.to_csv('lgb_resample_'+metric + '_comp_after.csv', header = ['Type','Raw','ROS','RUS','SMOTE-T'], index = False)\n",
    "print(data)"
   ]
  },
  {
   "cell_type": "raw",
   "metadata": {},
   "source": [
    "data[:,1:]r"
   ]
  },
  {
   "cell_type": "code",
   "execution_count": null,
   "metadata": {},
   "outputs": [],
   "source": []
  },
  {
   "cell_type": "code",
   "execution_count": null,
   "metadata": {},
   "outputs": [],
   "source": []
  }
 ],
 "metadata": {
  "kernelspec": {
   "display_name": "Python 3",
   "language": "python",
   "name": "python3"
  },
  "language_info": {
   "codemirror_mode": {
    "name": "ipython",
    "version": 3
   },
   "file_extension": ".py",
   "mimetype": "text/x-python",
   "name": "python",
   "nbconvert_exporter": "python",
   "pygments_lexer": "ipython3",
   "version": "3.6.4"
  }
 },
 "nbformat": 4,
 "nbformat_minor": 2
}
