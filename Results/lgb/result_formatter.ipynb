{
 "cells": [
  {
   "cell_type": "code",
   "execution_count": 1,
   "metadata": {},
   "outputs": [],
   "source": [
    "import re\n",
    "import numpy as np\n",
    "import pandas as pd\n",
    "import glob\n",
    "def get_string(file):\n",
    "    f = open(file, 'r')\n",
    "    string = f.read()\n",
    "    f.close()\n",
    "    first = string.split('*')[0]\n",
    "    second = string.split('*')[-1]\n",
    "    return first, second\n",
    "\n",
    "def find_data(metric, string):\n",
    "    reg = re.compile(metric+'.(.*?)[, \\n]', re.S)\n",
    "    return re.findall(reg, string)\n",
    "\n",
    "metric_list = ['class', 'recall', 'precision', 'fpr', 'f1']\n",
    "classes = ['WWW', 'MAIL', 'FTP-CONTROL', 'FTP-PASV', 'ATTACK','P2P', 'DATABASE', 'FTP-DATA','MULTIMEDIA', 'SERVICES', 'INTERACTIVE']\n",
    "\n",
    "def to_csv(filename):\n",
    "    first,second = get_string(filename)\n",
    "    data = classes\n",
    "    for metric in metric_list[1:]:\n",
    "        data = np.c_[data,find_data(metric, first)]\n",
    "    df = pd.DataFrame(data)\n",
    "    df.to_csv(filename.split('.')[0]+'_1.csv', index = False, header = metric_list)\n",
    "    data = classes\n",
    "    for metric in metric_list[1:]:\n",
    "        data = np.c_[data,find_data(metric, second)]\n",
    "    df = pd.DataFrame(data)\n",
    "    df.to_csv(filename.split('.')[0]+'_2.csv', index = False, header = metric_list)\n",
    "\n",
    "if __name__ == '__main__':\n",
    "    file_list = glob.glob('*.log')\n",
    "    for filename in file_list:\n",
    "        to_csv(filename)\n"
   ]
  },
  {
   "cell_type": "code",
   "execution_count": null,
   "metadata": {},
   "outputs": [],
   "source": []
  }
 ],
 "metadata": {
  "kernelspec": {
   "display_name": "Python 3",
   "language": "python",
   "name": "python3"
  },
  "language_info": {
   "codemirror_mode": {
    "name": "ipython",
    "version": 3
   },
   "file_extension": ".py",
   "mimetype": "text/x-python",
   "name": "python",
   "nbconvert_exporter": "python",
   "pygments_lexer": "ipython3",
   "version": "3.6.4"
  }
 },
 "nbformat": 4,
 "nbformat_minor": 2
}
