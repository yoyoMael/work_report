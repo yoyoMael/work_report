{
 "cells": [
  {
   "cell_type": "code",
   "execution_count": 89,
   "metadata": {},
   "outputs": [
    {
     "name": "stdout",
     "output_type": "stream",
     "text": [
      "[0.9562 0.9914 0.9976 0.9849 0.9746 0.9972 0.9971]\n",
      "Index(['GNB', 'KNN', 'LGBM', 'MLP', 'RBF-SVM', 'RF', 'XGB'], dtype='object')\n"
     ]
    },
    {
     "data": {
      "image/png": "[encoded data removed]",
      "text/plain": [
       "<Figure size 720x432 with 1 Axes>"
      ]
     },
     "metadata": {},
     "output_type": "display_data"
    }
   ],
   "source": [
    "import pandas as pd\n",
    "import numpy as np\n",
    "import matplotlib.pyplot as plt\n",
    "\n",
    "df = pd.read_csv('acc_np.csv')\n",
    "\n",
    "df.head()\n",
    "\n",
    "values = df[2:][df.columns[2:]].values\n",
    "print(values[0])\n",
    "\n",
    "clf_names = df.columns[2:]\n",
    "print(clf_names)\n",
    "\n",
    "plt.figure(figsize=(10,6))\n",
    "ax = plt.subplot(1,1,1)\n",
    "width = .35\n",
    "index = np.arange(len(clf_names))\n",
    "\n",
    "rects1 = ax.bar(clf_names,values[0],align='center',width=width,\n",
    "       color=(.3,.6,.6,.5),edgecolor='w',linewidth=1,log=False,label='test 1')\n",
    "rects2 = ax.bar(index+width,values[1], align='center',width=width,\n",
    "       color=(.2,.5,.6,1),edgecolor='w',linewidth=1,log=False,label='test 2')\n",
    "plt.xticks(index+width/2,clf_names)\n",
    "plt.ylim(0.8,1.03)\n",
    "def set_values(rects):\n",
    "    for rect in rects:\n",
    "        height = rect.get_height()\n",
    "        plt.text(rect.get_x() + rect.get_width() / 2, height, height, ha='center', va='bottom',fontsize=8)\n",
    "        rect.set_edgecolor((.9,.9,1))\n",
    "\n",
    "ax.set_xlabel('Classifier')\n",
    "ax.set_ylabel('Accuracy')\n",
    "ax.legend(loc='best')\n",
    "plt.title('Accuracy of different classifier')\n",
    "\n",
    "plt.savefig('clf_acc_comp.png')\n",
    "# from matplotlib.ticker import MultipleLocator, FormatStrFormatter, NullLocator\n",
    "# yformatter = FormatStrFormatter('%1.2f')\n",
    "# ylocator = NullLocator()\n",
    "# ax.yaxis.set_major_formatter(ymajorLocator)\n",
    "# ax.yaxis.set_major_locator(ylocator)\n",
    "\n",
    "# set_values(rects1)\n",
    "# set_values(rects2)"
   ]
  },
  {
   "cell_type": "code",
   "execution_count": null,
   "metadata": {},
   "outputs": [],
   "source": []
  }
 ],
 "metadata": {
  "kernelspec": {
   "display_name": "Python 3",
   "language": "python",
   "name": "python3"
  },
  "language_info": {
   "codemirror_mode": {
    "name": "ipython",
    "version": 3
   },
   "file_extension": ".py",
   "mimetype": "text/x-python",
   "name": "python",
   "nbconvert_exporter": "python",
   "pygments_lexer": "ipython3",
   "version": "3.6.4"
  }
 },
 "nbformat": 4,
 "nbformat_minor": 2
}
