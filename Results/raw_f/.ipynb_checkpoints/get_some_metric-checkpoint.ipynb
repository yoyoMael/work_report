{
 "cells": [
  {
   "cell_type": "code",
   "execution_count": 25,
   "metadata": {},
   "outputs": [],
   "source": [
    "import pandas as pd\n",
    "import numpy as np\n",
    "import glob\n",
    "\n",
    "# compare recall of ftp-c  ftp-p  p2p database,  2,3,5,6"
   ]
  },
  {
   "cell_type": "raw",
   "metadata": {},
   "source": [
    "files = glob.glob('*1.csv')\n",
    "files.sort()\n",
    "\n",
    "df = pd.read_csv('lgb_raw_0f_1.csv')\n",
    "clf_names = ['DT','GNB', 'KNN', 'LGBM', 'MLP', 'RBFSVM', 'RF', 'XGB']\n",
    "classes = df['class'][[2,3,5,6]].values\n",
    "\n",
    "data = classes\n",
    "for file in files:\n",
    "    df = pd.read_csv(file)\n",
    "    data = np.c_[data,df['recall'][[2,3,5,6]].values]\n",
    "data1 = data[:,1:]\n",
    "\n",
    "\n",
    "files = glob.glob('*2.csv')\n",
    "files.sort()\n",
    "\n",
    "df = pd.read_csv('lgb_raw_0f_1.csv')\n",
    "clf_names = ['GNB', 'KNN', 'LGBM', 'MLP', 'RBFSVM', 'RF', 'XGB']\n",
    "classes = df['class'][[2,3,5,6]].values\n",
    "\n",
    "data = classes\n",
    "for file in files:\n",
    "    df = pd.read_csv(file)\n",
    "    data = np.c_[data,df['precision'][[2,3,5,6]].values]\n",
    "data2 = data[:,1:]\n",
    "\n",
    "                  \n",
    "data = np.r_[data1,data2]\n",
    "df = pd.DataFrame(data)\n",
    "df.to_csv('precision_comp.csv', header = clf_names, index = False)\n",
    "print(data)"
   ]
  },
  {
   "cell_type": "raw",
   "metadata": {},
   "source": [
    "data[:,1:]r"
   ]
  },
  {
   "cell_type": "code",
   "execution_count": null,
   "metadata": {},
   "outputs": [],
   "source": []
  },
  {
   "cell_type": "code",
   "execution_count": null,
   "metadata": {},
   "outputs": [],
   "source": []
  }
 ],
 "metadata": {
  "kernelspec": {
   "display_name": "Python 3",
   "language": "python",
   "name": "python3"
  },
  "language_info": {
   "codemirror_mode": {
    "name": "ipython",
    "version": 3
   },
   "file_extension": ".py",
   "mimetype": "text/x-python",
   "name": "python",
   "nbconvert_exporter": "python",
   "pygments_lexer": "ipython3",
   "version": "3.6.4"
  }
 },
 "nbformat": 4,
 "nbformat_minor": 2
}
